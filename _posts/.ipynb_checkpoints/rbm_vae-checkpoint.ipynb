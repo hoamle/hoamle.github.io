{
 "cells": [
  {
   "cell_type": "markdown",
   "metadata": {},
   "source": [
    "__Nomenclature__\n",
    "* AE, DAE, VAE: (vanilla) auto-encoder, denoising auto-encoder, variational auto-encoder\n",
    "* RBM: Restricted Boltzmann Machine\n",
    "* DBN: Deep Belief Networks i.e. \"hybrid\" stacked-RBM\n",
    "* DBN-DNN: feed-forward DNN trained by back-prop, initialising with pre-trained equivalent DBN\n"
   ]
  },
  {
   "cell_type": "markdown",
   "metadata": {},
   "source": [
    "What do you think about the relevance of RBM/DBN in the current (\"current\" as in \"2014 onwards\") Machine Learning/Deep Learning research? Has the advent of VAE - variational auto-encoder [1], and effective regulariser such as Dropout made RBM/DBN ___obsolete___?"
   ]
  },
  {
   "cell_type": "markdown",
   "metadata": {},
   "source": [
    "As opposed to vanilla AE and DAE, VAE is a fully _probabilistic_ generative model, which (also the most lucrative property) lets parameter $\\theta$ of each conditional generative distribution e.g. $\\text{Pr}\\left(z|x;\\theta\\right)=\\text{Pr}\\left(z|\\theta\\left(x\\right)\\right)$ be parameterised by a DNN. Nevertheless, the model still retains the merit of an AE against RBM: _not_ having to deal with partition function $Z$ in the objective function."
   ]
  },
  {
   "cell_type": "markdown",
   "metadata": {},
   "source": [
    "1. asd\n",
    "2. s"
   ]
  }
 ],
 "metadata": {
  "kernelspec": {
   "display_name": "Python 2",
   "language": "python",
   "name": "python2"
  },
  "language_info": {
   "codemirror_mode": {
    "name": "ipython",
    "version": 2
   },
   "file_extension": ".py",
   "mimetype": "text/x-python",
   "name": "python",
   "nbconvert_exporter": "python",
   "pygments_lexer": "ipython2",
   "version": "2.7.11"
  }
 },
 "nbformat": 4,
 "nbformat_minor": 0
}
