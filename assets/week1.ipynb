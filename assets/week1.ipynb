{
 "cells": [
  {
   "cell_type": "markdown",
   "metadata": {},
   "source": [
    "## Example problem \n",
    "*Identify a flower based on its attributes, such as petal length, sepal width, ...* (sepal: đài hoa, petal: cánh hoa)\n",
    "\n",
    "Ref: http://scikit-learn.org/stable/tutorial/basic/tutorial.html\n",
    "\n",
    "![](img/Petal-sepal.jpg)\n",
    "(*\"which flower is this?\" - photo from [bing](https://www.bing.com/images/search?view=detailV2&ccid=E8dlW334&id=690CFCA2C5419961A77E0534DC3B6AD1B61FA711&q=sepal&simid=608048017631022285&selectedIndex=5&ajaxhist=0))*\n",
    " \n",
    "\n",
    "**Experience** i.e ***Training data***: `iris` dataset - contains data about different types of flower\n",
    "    * for demonstration purpose, we are using a \"clean\" dataset (already processed and stored in structured format), so you don't have to do data pre-processing. Reminded that it is mostly **not** the case in practice.\n",
    "\n",
    "***Note***: From now on, we will use consistent naming convention with the math notation\n",
    "used in lecture. Click [here](https://hoamle.github.io/articles/17/machine-learning-appendix/#glossary) \n",
    "for summary of the notations. The link also lists common terminology in machine learning with their synonyms or strongly related terms."
   ]
  },
  {
   "cell_type": "markdown",
   "metadata": {},
   "source": [
    "First, study our data, so that we can \"eye-balling\", manipulate or extract relevant information from the data."
   ]
  },
  {
   "cell_type": "code",
   "execution_count": 1,
   "metadata": {
    "collapsed": true
   },
   "outputs": [],
   "source": [
    "from sklearn import datasets \n",
    "iris_data = datasets.load_iris()\n",
    "\n",
    "# print(iris_data)"
   ]
  },
  {
   "cell_type": "markdown",
   "metadata": {},
   "source": [
    "* Read the \"docs\""
   ]
  },
  {
   "cell_type": "code",
   "execution_count": 16,
   "metadata": {
    "collapsed": false
   },
   "outputs": [
    {
     "name": "stdout",
     "output_type": "stream",
     "text": [
      "Iris Plants Database\n",
      "\n",
      "Notes\n",
      "-----\n",
      "Data Set Characteristics:\n",
      "    :Number of Instances: 150 (50 in each of three classes)\n",
      "    :Number of Attributes: 4 numeric, predictive attributes and the class\n",
      "    :Attribute Information:\n",
      "        - sepal length in cm\n",
      "        - sepal width in cm\n",
      "        - petal length in cm\n",
      "        - petal width in cm\n",
      "        - class:\n",
      "                - Iris-Setosa\n",
      "                - Iris-Versicolour\n",
      "                - Iris-Virginica\n",
      "    :Summary Statistics:\n",
      "\n",
      "    ============== ==== ==== ======= ===== ====================\n",
      "                    Min  Max   Mean    SD   Class Correlation\n",
      "    ============== ==== ==== ======= ===== ====================\n",
      "    sepal length:   4.3  7.9   5.84   0.83    0.7826\n",
      "    sepal width:    2.0  4.4   3.05   0.43   -0.4194\n",
      "    petal length:   1.0  6.9   3.76   1.76    0.9490  (high!)\n",
      "    petal width:    0.1  2.5   1.20  0.76     0.9565  (high!)\n",
      "    ============== ==== ==== ======= ===== ====================\n",
      "\n",
      "    :Missing Attribute Values: None\n",
      "  \n"
     ]
    }
   ],
   "source": [
    "print(iris_data['DESCR'][:1000])  # the \"doc\" is quite long, so\n",
    "                                  # I extract the first 1000 characters\n",
    "                                  # for demonstration purpose    "
   ]
  },
  {
   "cell_type": "markdown",
   "metadata": {},
   "source": [
    "* There are 150 examples (i.e. *data points*): \n",
    "* Each flower type is described by $P=4$ attributes (i.e. ***features*** or predictors): `sepal length` ($x_{1}$), \n",
    "`sepal width` ($x_{2}$), `petal length` ($x_{3}$), `petal width` ($x_{4}$). We write the features as a feature vector $x=\\left(x_{1},x_{2},x_{3},x_{4}\\right)^{T}$\n",
    "\n"
   ]
  },
  {
   "cell_type": "code",
   "execution_count": 4,
   "metadata": {
    "collapsed": false
   },
   "outputs": [
    {
     "data": {
      "text/plain": [
       "(150L, 4L)"
      ]
     },
     "execution_count": 4,
     "metadata": {},
     "output_type": "execute_result"
    }
   ],
   "source": [
    "iris_data['data'].shape"
   ]
  },
  {
   "cell_type": "markdown",
   "metadata": {},
   "source": [
    "* There are $K=3$ types (i.e. ***classes***) of flower, which are `setosa` (id: 0), `versicolor` (id: 1), `virginica`  (id: 2)"
   ]
  },
  {
   "cell_type": "code",
   "execution_count": 5,
   "metadata": {
    "collapsed": false
   },
   "outputs": [
    {
     "data": {
      "text/plain": [
       "array(['setosa', 'versicolor', 'virginica'], \n",
       "      dtype='|S10')"
      ]
     },
     "execution_count": 5,
     "metadata": {},
     "output_type": "execute_result"
    }
   ],
   "source": [
    "iris_data['target_names']"
   ]
  },
  {
   "cell_type": "code",
   "execution_count": 6,
   "metadata": {
    "collapsed": false
   },
   "outputs": [
    {
     "data": {
      "text/plain": [
       "array([0, 0, 0, 0, 0, 0, 0, 0, 0, 0, 0, 0, 0, 0, 0, 0, 0, 0, 0, 0, 0, 0, 0,\n",
       "       0, 0, 0, 0, 0, 0, 0, 0, 0, 0, 0, 0, 0, 0, 0, 0, 0, 0, 0, 0, 0, 0, 0,\n",
       "       0, 0, 0, 0, 1, 1, 1, 1, 1, 1, 1, 1, 1, 1, 1, 1, 1, 1, 1, 1, 1, 1, 1,\n",
       "       1, 1, 1, 1, 1, 1, 1, 1, 1, 1, 1, 1, 1, 1, 1, 1, 1, 1, 1, 1, 1, 1, 1,\n",
       "       1, 1, 1, 1, 1, 1, 1, 1, 2, 2, 2, 2, 2, 2, 2, 2, 2, 2, 2, 2, 2, 2, 2,\n",
       "       2, 2, 2, 2, 2, 2, 2, 2, 2, 2, 2, 2, 2, 2, 2, 2, 2, 2, 2, 2, 2, 2, 2,\n",
       "       2, 2, 2, 2, 2, 2, 2, 2, 2, 2, 2, 2])"
      ]
     },
     "execution_count": 6,
     "metadata": {},
     "output_type": "execute_result"
    }
   ],
   "source": [
    "iris_data['target']"
   ]
  },
  {
   "cell_type": "markdown",
   "metadata": {},
   "source": [
    "To summarize, given *any* attribute $x$, we would like to predict a value $y$ in {`setosa`, `versicolor`, `virginica`} by a *ML model*. Computing the prediction is one of the ***inference tasks***  that a model need to perform.\n",
    "![](img/week1-1.png)"
   ]
  },
  {
   "cell_type": "markdown",
   "metadata": {
    "collapsed": false
   },
   "source": [
    "To build a model, we need to *train* it by using the experience i.e. *training data* we have. This task is called ***learning task***, and is also commonly called *fitting*. \n",
    "![](img/week1-2.png)\n",
    "- (*Note*: there are ML algorithms that virtually do not perform any kind of learning, e.g. k-nearest neighbour. These algorithms also have their own strengths and weaknesses.)\n"
   ]
  },
  {
   "cell_type": "markdown",
   "metadata": {},
   "source": [
    "For demonstration purpose, we use only a subset of `iris` dataset to train our model, and assume the left-over are *new data* that we would like to predict. Those new data are called ***test data***, and are the main indicator for evaluating our model performance."
   ]
  },
  {
   "cell_type": "code",
   "execution_count": 7,
   "metadata": {
    "collapsed": false
   },
   "outputs": [
    {
     "name": "stdout",
     "output_type": "stream",
     "text": [
      "Test set size: 30 examples\n"
     ]
    }
   ],
   "source": [
    "# We leave 20% of the examples as test data, the other 80% as training data\n",
    "\n",
    "from sklearn.cross_validation import train_test_split\n",
    "# note: sklearn 0.18 re-allocates `train_test_split` to \n",
    "# `sklearn.model_selection` module \n",
    "indicies = [i for i in xrange(len(iris_data['data']))]\n",
    "train_idx, new_idx = train_test_split(indicies, train_size=0.8,\n",
    "                                     random_state=1)\n",
    "\n",
    "# I use capital `X` to indicate a set of data points\n",
    "D_train = {'X': iris_data['data'][train_idx],\n",
    "           'Y': iris_data['target'][train_idx]\n",
    "           }\n",
    "D_new = {'X': iris_data['data'][new_idx],\n",
    "         'Y': iris_data['target'][new_idx]\n",
    "        }\n",
    "print(\"Test set size: {} examples\".format(len(new_idx)))"
   ]
  },
  {
   "cell_type": "markdown",
   "metadata": {},
   "source": [
    "Now learn our model"
   ]
  },
  {
   "cell_type": "code",
   "execution_count": 8,
   "metadata": {
    "collapsed": false
   },
   "outputs": [],
   "source": [
    "# The first lecture intended to introduce high-level concepts in\n",
    "# machine learning. Therefore, you do not need to understand e.g.\n",
    "# specifically \"what LogisticRegression is\", \"how to choose or\n",
    "# desgin a model\", or \"how `fitting` works\", etc. They are left \n",
    "# for the next lectures.\n",
    "\n",
    "from sklearn.linear_model import LogisticRegression\n",
    "model = LogisticRegression()  # initialize `model` i.e. \"baby\" model\n",
    "model.fit(D_train['X'], D_train['Y']);  # after `.fit`, the model is trained"
   ]
  },
  {
   "cell_type": "markdown",
   "metadata": {},
   "source": [
    "Learning finished! Now try indentifying a new flower with feature $x^{\\left(\\text{new}\\right)}$"
   ]
  },
  {
   "cell_type": "code",
   "execution_count": 9,
   "metadata": {
    "collapsed": false
   },
   "outputs": [
    {
     "name": "stdout",
     "output_type": "stream",
     "text": [
      "[ 5.8  4.   1.2  0.2]\n"
     ]
    }
   ],
   "source": [
    "x_new = D_new['X'][0]\n",
    "print(x_new)"
   ]
  },
  {
   "cell_type": "code",
   "execution_count": 10,
   "metadata": {
    "collapsed": false
   },
   "outputs": [
    {
     "name": "stdout",
     "output_type": "stream",
     "text": [
      "[0]\n"
     ]
    },
    {
     "name": "stderr",
     "output_type": "stream",
     "text": [
      "C:\\Users\\hoa\\Anaconda2\\lib\\site-packages\\sklearn\\utils\\validation.py:386: DeprecationWarning: Passing 1d arrays as data is deprecated in 0.17 and willraise ValueError in 0.19. Reshape your data either using X.reshape(-1, 1) if your data has a single feature or X.reshape(1, -1) if it contains a single sample.\n",
      "  DeprecationWarning)\n"
     ]
    }
   ],
   "source": [
    "y_pred = model.predict(x_new)  \n",
    "print(y_pred)"
   ]
  },
  {
   "cell_type": "markdown",
   "metadata": {},
   "source": [
    "Our model `predict`s that the flower whose petal and sepal size are as described by $x^{\\left(\\text{new}\\right)}$ is a \"setosa\" (`id: 0`). ***Is this true?***"
   ]
  },
  {
   "cell_type": "code",
   "execution_count": 11,
   "metadata": {
    "collapsed": false
   },
   "outputs": [
    {
     "name": "stdout",
     "output_type": "stream",
     "text": [
      "[ True]\n"
     ]
    }
   ],
   "source": [
    "print(y_pred == D_new['Y'][0])"
   ]
  },
  {
   "cell_type": "markdown",
   "metadata": {},
   "source": [
    "Good news! But what about prediction for other flowers?"
   ]
  },
  {
   "cell_type": "code",
   "execution_count": 15,
   "metadata": {
    "collapsed": false
   },
   "outputs": [
    {
     "name": "stdout",
     "output_type": "stream",
     "text": [
      "FlowerId\tPredict\tActual\tCorrect prediction?\n",
      "14\t\t0\t0\tTrue\t\n",
      "98\t\t1\t1\tTrue\t\n",
      "75\t\t1\t1\tTrue\t\n",
      "16\t\t0\t0\tTrue\t\n",
      "131\t\t2\t2\tTrue\t\n",
      "56\t\t2\t1\tFalse\t\n",
      "141\t\t2\t2\tTrue\t\n",
      "44\t\t0\t0\tTrue\t\n",
      "29\t\t0\t0\tTrue\t\n",
      "120\t\t2\t2\tTrue\t\n",
      "94\t\t1\t1\tTrue\t\n",
      "5\t\t0\t0\tTrue\t\n",
      "102\t\t2\t2\tTrue\t\n",
      "51\t\t1\t1\tTrue\t\n",
      "78\t\t2\t1\tFalse\t\n",
      "42\t\t0\t0\tTrue\t\n",
      "92\t\t1\t1\tTrue\t\n",
      "66\t\t2\t1\tFalse\t\n",
      "31\t\t0\t0\tTrue\t\n",
      "35\t\t0\t0\tTrue\t\n",
      "90\t\t1\t1\tTrue\t\n",
      "84\t\t2\t1\tFalse\t\n",
      "77\t\t2\t1\tFalse\t\n",
      "40\t\t0\t0\tTrue\t\n",
      "125\t\t2\t2\tTrue\t\n",
      "99\t\t1\t1\tTrue\t\n",
      "33\t\t0\t0\tTrue\t\n",
      "19\t\t0\t0\tTrue\t\n",
      "73\t\t1\t1\tTrue\t\n",
      "146\t\t2\t2\tTrue\t\n"
     ]
    }
   ],
   "source": [
    "Y_pred = model.predict(D_new['X'])\n",
    "\n",
    "print(\"FlowerId\\tPredict\\tActual\\tCorrect prediction?\")\n",
    "for i in xrange(len(new_idx)):\n",
    "    print(\"{}\\t\\t{}\\t{}\\t{}\\t\".format(\n",
    "            new_idx[i], \n",
    "            Y_pred[i],\n",
    "            D_new['Y'][i],\n",
    "            Y_pred[i] == D_new['Y'][i]\n",
    "        ))"
   ]
  },
  {
   "cell_type": "markdown",
   "metadata": {},
   "source": [
    "Our model correctly indentifies 25 examples and makes 5 errors out of 30 new examples, achieving an [*accuracy*](http://scikit-learn.org/stable/modules/model_evaluation.html#accuracy-score) of $\\dfrac{1}{N}_{\\text{test}}\\sum_{n}\\mathbb{I}\\left(\\hat{y}^{\\left(n\\right)}=y^{\\left(n\\right)}\\right)=83.3\\%$"
   ]
  },
  {
   "cell_type": "code",
   "execution_count": 14,
   "metadata": {
    "collapsed": false
   },
   "outputs": [
    {
     "data": {
      "text/plain": [
       "0.83333333333333337"
      ]
     },
     "execution_count": 14,
     "metadata": {},
     "output_type": "execute_result"
    }
   ],
   "source": [
    "sum(Y_pred == D_new['Y']) / float(len(new_idx))"
   ]
  },
  {
   "cell_type": "markdown",
   "metadata": {},
   "source": [
    "* Note: Accuracy is an appropriate measure of performance for this problem. However, other problems may require other ***evaluation metric(s)***. For example, in case you want to identify whether a patient has cancer or not, we may not not worry too much about incorrectly identify `Yes` (False Positive cases) and only want to miss as few true cases (actually have cancer - True Positive cases) as possible. In this case, [*Recall*](http://scikit-learn.org/stable/modules/model_evaluation.html#precision-recall-f-measure-metrics) is a better measure of performance than Accuracy."
   ]
  }
 ],
 "metadata": {
  "kernelspec": {
   "display_name": "Python 2",
   "language": "python",
   "name": "python2"
  },
  "language_info": {
   "codemirror_mode": {
    "name": "ipython",
    "version": 2
   },
   "file_extension": ".py",
   "mimetype": "text/x-python",
   "name": "python",
   "nbconvert_exporter": "python",
   "pygments_lexer": "ipython2",
   "version": "2.7.11"
  }
 },
 "nbformat": 4,
 "nbformat_minor": 0
}
